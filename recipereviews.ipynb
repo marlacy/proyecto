{
  "cells": [
    {
      "cell_type": "markdown",
      "metadata": {
        "id": "view-in-github",
        "colab_type": "text"
      },
      "source": [
        "<a href=\"https://colab.research.google.com/github/marlacy/proyecto/blob/main/recipereviews.ipynb\" target=\"_parent\"><img src=\"https://colab.research.google.com/assets/colab-badge.svg\" alt=\"Open In Colab\"/></a>"
      ]
    },
    {
      "cell_type": "code",
      "execution_count": 1,
      "metadata": {
        "colab": {
          "base_uri": "https://localhost:8080/"
        },
        "id": "tRYzMcoEWH7t",
        "outputId": "9700ea0f-ec96-4596-aae6-9f88c3e1ec1f"
      },
      "outputs": [
        {
          "output_type": "stream",
          "name": "stdout",
          "text": [
            "Mounted at /content/drive\n"
          ]
        }
      ],
      "source": [
        "from google.colab import drive\n",
        "\n",
        "# Mount Google Drive\n",
        "drive.mount('/content/drive')"
      ]
    },
    {
      "cell_type": "code",
      "execution_count": 3,
      "metadata": {
        "id": "ZjaBJxPnKG_l"
      },
      "outputs": [],
      "source": [
        "import pandas as pd\n",
        "import matplotlib.pyplot as plt\n",
        "import seaborn as sns\n",
        "\n",
        "# Load your dataset\n",
        "df = pd.read_csv('/content/Recipe Reviews and User Feedback Dataset.csv')\n"
      ]
    },
    {
      "cell_type": "code",
      "execution_count": 4,
      "metadata": {
        "colab": {
          "base_uri": "https://localhost:8080/"
        },
        "id": "2FV3PAoEWU48",
        "outputId": "c6d7f6fe-659c-417c-8782-ecddb417a900"
      },
      "outputs": [
        {
          "output_type": "stream",
          "name": "stdout",
          "text": [
            "   Unnamed: 0  recipe_number  recipe_code         recipe_name  \\\n",
            "0           0              1        14299  Creamy White Chili   \n",
            "1           1              1        14299  Creamy White Chili   \n",
            "2           2              1        14299  Creamy White Chili   \n",
            "3           3              1        14299  Creamy White Chili   \n",
            "4           4              1        14299  Creamy White Chili   \n",
            "\n",
            "                                        comment_id         user_id  \\\n",
            "0  sp_aUSaElGf_14299_c_2G3aneMRgRMZwXqIHmSdXSG1hEM  u_9iFLIhMa8QaG   \n",
            "1  sp_aUSaElGf_14299_c_2FsPC83HtzCsQAtOxlbL6RcaPbY  u_Lu6p25tmE77j   \n",
            "2  sp_aUSaElGf_14299_c_2FPrSGyTv7PQkZq37j92r9mYGkP  u_s0LwgpZ8Jsqq   \n",
            "3  sp_aUSaElGf_14299_c_2DzdSIgV9qNiuBaLoZ7JQaartoC  u_fqrybAdYjgjG   \n",
            "4  sp_aUSaElGf_14299_c_2DtZJuRQYeTFwXBoZRfRhBPEXjI  u_XXWKwVhKZD69   \n",
            "\n",
            "    user_name  user_reputation  created_at  reply_count  thumbs_up  \\\n",
            "0     Jeri326                1  1665619889            0          0   \n",
            "1     Mark467               50  1665277687            0          7   \n",
            "2  Barbara566               10  1664404557            0          3   \n",
            "3  jeansch123                1  1661787808            2          2   \n",
            "4    camper77               10  1664913823            1          7   \n",
            "\n",
            "   thumbs_down  stars  best_score  \\\n",
            "0            0      5         527   \n",
            "1            0      5         724   \n",
            "2            0      5         710   \n",
            "3            0      0         581   \n",
            "4            0      0         820   \n",
            "\n",
            "                                                text  \n",
            "0  I tweaked it a little, removed onions because ...  \n",
            "1  Bush used to have a white chili bean and it ma...  \n",
            "2  I have a very complicated white chicken chili ...  \n",
            "3  In your introduction, you mentioned cream chee...  \n",
            "4  Wonderful! I made this for a &#34;Chili/Stew&#...  \n"
          ]
        }
      ],
      "source": [
        "# Display the first few rows of the dataframe\n",
        "print(df.head())"
      ]
    },
    {
      "cell_type": "code",
      "execution_count": 5,
      "metadata": {
        "colab": {
          "base_uri": "https://localhost:8080/"
        },
        "id": "aw-yyMGhWe5C",
        "outputId": "cb06346b-fc5c-48b0-e511-995a897ca2ac"
      },
      "outputs": [
        {
          "output_type": "stream",
          "name": "stdout",
          "text": [
            "<class 'pandas.core.frame.DataFrame'>\n",
            "RangeIndex: 18182 entries, 0 to 18181\n",
            "Data columns (total 15 columns):\n",
            " #   Column           Non-Null Count  Dtype \n",
            "---  ------           --------------  ----- \n",
            " 0   Unnamed: 0       18182 non-null  int64 \n",
            " 1   recipe_number    18182 non-null  int64 \n",
            " 2   recipe_code      18182 non-null  int64 \n",
            " 3   recipe_name      18182 non-null  object\n",
            " 4   comment_id       18182 non-null  object\n",
            " 5   user_id          18182 non-null  object\n",
            " 6   user_name        18182 non-null  object\n",
            " 7   user_reputation  18182 non-null  int64 \n",
            " 8   created_at       18182 non-null  int64 \n",
            " 9   reply_count      18182 non-null  int64 \n",
            " 10  thumbs_up        18182 non-null  int64 \n",
            " 11  thumbs_down      18182 non-null  int64 \n",
            " 12  stars            18182 non-null  int64 \n",
            " 13  best_score       18182 non-null  int64 \n",
            " 14  text             18180 non-null  object\n",
            "dtypes: int64(10), object(5)\n",
            "memory usage: 2.1+ MB\n",
            "None\n"
          ]
        }
      ],
      "source": [
        "# Get a concise summary of the dataframe\n",
        "print(df.info())"
      ]
    },
    {
      "cell_type": "code",
      "execution_count": 6,
      "metadata": {
        "colab": {
          "base_uri": "https://localhost:8080/"
        },
        "id": "y3ebuNX1Wi2-",
        "outputId": "1807b550-1bf4-4fc6-e479-0b9f8610d6aa"
      },
      "outputs": [
        {
          "output_type": "stream",
          "name": "stdout",
          "text": [
            "         Unnamed: 0  recipe_number    recipe_code  user_reputation  \\\n",
            "count  18182.000000   18182.000000   18182.000000     18182.000000   \n",
            "mean     121.465295      38.689363   21773.667253         2.159608   \n",
            "std      116.747893      29.786647   23965.109637        10.014666   \n",
            "min        0.000000       1.000000     386.000000         0.000000   \n",
            "25%       45.000000      12.000000    6086.000000         1.000000   \n",
            "50%       91.000000      33.000000   14600.000000         1.000000   \n",
            "75%      150.000000      64.000000   33121.000000         1.000000   \n",
            "max      724.000000     100.000000  191775.000000       520.000000   \n",
            "\n",
            "         created_at   reply_count     thumbs_up   thumbs_down         stars  \\\n",
            "count  1.818200e+04  18182.000000  18182.000000  18182.000000  18182.000000   \n",
            "mean   1.623710e+09      0.014630      1.089264      0.549335      4.288802   \n",
            "std    5.468697e+06      0.137974      4.201004      3.470124      1.544786   \n",
            "min    1.613035e+09      0.000000      0.000000      0.000000      0.000000   \n",
            "25%    1.622717e+09      0.000000      0.000000      0.000000      5.000000   \n",
            "50%    1.622718e+09      0.000000      0.000000      0.000000      5.000000   \n",
            "75%    1.622718e+09      0.000000      0.000000      0.000000      5.000000   \n",
            "max    1.665756e+09      3.000000    106.000000    126.000000      5.000000   \n",
            "\n",
            "         best_score  \n",
            "count  18182.000000  \n",
            "mean     153.162138  \n",
            "std      141.075316  \n",
            "min        0.000000  \n",
            "25%      100.000000  \n",
            "50%      100.000000  \n",
            "75%      100.000000  \n",
            "max      946.000000  \n"
          ]
        }
      ],
      "source": [
        "# Summary statistics of numerical columns\n",
        "print(df.describe())"
      ]
    },
    {
      "cell_type": "code",
      "execution_count": 7,
      "metadata": {
        "colab": {
          "base_uri": "https://localhost:8080/"
        },
        "id": "ITouiMSPWmuf",
        "outputId": "df56cd89-f6f7-4674-b89a-6d49a0298fc3"
      },
      "outputs": [
        {
          "output_type": "stream",
          "name": "stdout",
          "text": [
            "Unnamed: 0         0\n",
            "recipe_number      0\n",
            "recipe_code        0\n",
            "recipe_name        0\n",
            "comment_id         0\n",
            "user_id            0\n",
            "user_name          0\n",
            "user_reputation    0\n",
            "created_at         0\n",
            "reply_count        0\n",
            "thumbs_up          0\n",
            "thumbs_down        0\n",
            "stars              0\n",
            "best_score         0\n",
            "text               2\n",
            "dtype: int64\n"
          ]
        }
      ],
      "source": [
        "# Check for missing values\n",
        "print(df.isnull().sum())"
      ]
    },
    {
      "cell_type": "code",
      "execution_count": 8,
      "metadata": {
        "colab": {
          "base_uri": "https://localhost:8080/",
          "height": 564
        },
        "id": "y2oP5vsgXeO7",
        "outputId": "a21d4852-b662-4d2b-fa55-10d3ef1c775c"
      },
      "outputs": [
        {
          "output_type": "display_data",
          "data": {
            "text/plain": [
              "<Figure size 1000x600 with 1 Axes>"
            ],
            "image/png": "[encoded data removed]"
          },
          "metadata": {}
        }
      ],
      "source": [
        "# Visualizing distribution of numerical features\n",
        "plt.figure(figsize=(10, 6))\n",
        "sns.histplot(df['best_score'], bins=5, kde=True)\n",
        "plt.title('Distribution of best_score')\n",
        "plt.xlabel('Value')\n",
        "plt.ylabel('Frequency')\n",
        "plt.show()"
      ]
    },
    {
      "cell_type": "code",
      "source": [
        "print(\"Size of the dataset:\", df.size)"
      ],
      "metadata": {
        "colab": {
          "base_uri": "https://localhost:8080/"
        },
        "id": "Go3R6L6g7b-1",
        "outputId": "e34c1ea6-a907-4523-d4d5-18b79f6f2eb0"
      },
      "execution_count": 9,
      "outputs": [
        {
          "output_type": "stream",
          "name": "stdout",
          "text": [
            "Size of the dataset: 272730\n"
          ]
        }
      ]
    },
    {
      "cell_type": "code",
      "source": [
        "print(\"Shape of the dataset:\", df.shape)"
      ],
      "metadata": {
        "colab": {
          "base_uri": "https://localhost:8080/"
        },
        "id": "p9Tu1-AIHYZu",
        "outputId": "c1d3e00c-2214-4dca-acb3-c55328851d4d"
      },
      "execution_count": 10,
      "outputs": [
        {
          "output_type": "stream",
          "name": "stdout",
          "text": [
            "Shape of the dataset: (18182, 15)\n"
          ]
        }
      ]
    },
    {
      "cell_type": "code",
      "source": [
        "df['recipe_name'].value_counts()"
      ],
      "metadata": {
        "colab": {
          "base_uri": "https://localhost:8080/"
        },
        "id": "HIaqZB_4CTNz",
        "outputId": "f07a6a73-d64a-4ae1-c1bc-1413e1f6320d"
      },
      "execution_count": 12,
      "outputs": [
        {
          "output_type": "execute_result",
          "data": {
            "text/plain": [
              "recipe_name\n",
              "Cheeseburger Soup               725\n",
              "Creamy White Chili              654\n",
              "Best Ever Banana Bread          509\n",
              "Enchilada Casser-Ole!           421\n",
              "Basic Homemade Bread            397\n",
              "                               ... \n",
              "Peanut Butter Cup Cheesecake     96\n",
              "Blueberry French Toast           90\n",
              "Caramel Heavenlies               86\n",
              "Lime Chicken Tacos               86\n",
              "Vegetarian Linguine              31\n",
              "Name: count, Length: 100, dtype: int64"
            ]
          },
          "metadata": {},
          "execution_count": 12
        }
      ]
    }
  ],
  "metadata": {
    "colab": {
      "provenance": [],
      "authorship_tag": "ABX9TyPDLs5WZJgn0GSHlsbzd3V7",
      "include_colab_link": true
    },
    "kernelspec": {
      "display_name": "Python 3",
      "name": "python3"
    },
    "language_info": {
      "name": "python"
    }
  },
  "nbformat": 4,
  "nbformat_minor": 0
}